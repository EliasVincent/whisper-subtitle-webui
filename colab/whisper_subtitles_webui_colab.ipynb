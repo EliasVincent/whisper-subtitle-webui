{
  "cells": [
    {
      "cell_type": "markdown",
      "metadata": {
        "id": "ZiuEHGjLiLq-"
      },
      "source": [
        "# Clone and install dependencies"
      ]
    },
    {
      "cell_type": "code",
      "execution_count": null,
      "metadata": {
        "id": "cdhoSxCJiMFA"
      },
      "outputs": [],
      "source": [
        "! git clone -b v3 https://github.com/EliasVincent/whisper-subtitles-webui\n",
        "! pip install -U pip\n",
        "! pip install -r whisper-subtitles-webui/requirements.txt\n",
        "! add-apt-repository -y ppa:savoury1/ffmpeg4\n",
        "! apt-get -qq install -y ffmpeg\n"
      ]
    },
    {
      "cell_type": "markdown",
      "metadata": {
        "id": "zj_Xi9baiqQk"
      },
      "source": [
        "# Start server"
      ]
    },
    {
      "cell_type": "code",
      "execution_count": null,
      "metadata": {
        "id": "fOC6bU2nui_r"
      },
      "outputs": [],
      "source": [
        "! python whisper-subtitles-webui/server.py --remote=True"
      ]
    }
  ],
  "metadata": {
    "accelerator": "GPU",
    "colab": {
      "provenance": []
    },
    "gpuClass": "standard",
    "kernelspec": {
      "display_name": "Python 3",
      "name": "python3"
    },
    "language_info": {
      "name": "python"
    }
  },
  "nbformat": 4,
  "nbformat_minor": 0
}
